{
 "cells": [
  {
   "cell_type": "code",
   "execution_count": null,
   "metadata": {
    "execution": {
     "iopub.execute_input": "2025-02-16T16:14:07.140539Z",
     "iopub.status.busy": "2025-02-16T16:14:07.140145Z",
     "iopub.status.idle": "2025-02-16T16:14:13.118236Z",
     "shell.execute_reply": "2025-02-16T16:14:13.117414Z",
     "shell.execute_reply.started": "2025-02-16T16:14:07.140508Z"
    },
    "trusted": true
   },
   "outputs": [],
   "source": [
    "!pip install metapub\n",
    "import pandas as pd\n",
    "from metapub import PubMedFetcher\n",
    "\n",
    "# List of keywords to search\n",
    "keywords = [\n",
    "\"Pegvaliase\",\n",
    "    \"Pegvisomant\",\n",
    "    \"Pegvorhyaluronidase alfa\",\n",
    "    \"Pegylated Recombinant Human Arginase I\",\n",
    "    \"Pegylated synthetic human c-peptide\",\n",
    "    \"Pegzilarginase\",\n",
    "]\n",
    "\n",
    "num_of_articles = 1  # Number of articles to retrieve per keyword\n",
    "\n",
    "fetch = PubMedFetcher()\n",
    "\n",
    "# List to store the results\n",
    "all_data = []\n",
    "\n",
    "# Loop over each keyword\n",
    "for keyword in keywords:\n",
    "    pmids = fetch.pmids_for_query(keyword, retmax=num_of_articles)\n",
    "\n",
    "    for pmid in pmids:\n",
    "        try:\n",
    "            article = fetch.article_by_pmid(pmid)\n",
    "            abstract_text = article.abstract if article.abstract else \"No abstract available\"\n",
    "            link = f\"https://pubmed.ncbi.nlm.nih.gov/{pmid}/\"\n",
    "\n",
    "            # Split the abstract into multiple lines\n",
    "            abstract_lines = abstract_text.split(\"\\n\")\n",
    "\n",
    "            # Add each line with the link\n",
    "            for line in abstract_lines:\n",
    "                all_data.append({\"PMID_Abstract\": f\"{pmid}: {line}\", \"Link\": link})\n",
    "        \n",
    "        except Exception as e:\n",
    "            print(f\"Erreur lors de la récupération de l'article {pmid} pour {keyword} : {e}\")\n",
    "\n",
    "# Create the DataFrame\n",
    "df_final = pd.DataFrame(all_data)\n",
    "\n",
    "# Display and save the results\n",
    "print(df_final)\n",
    "df_final.to_csv(\"pubmed_articles-8.csv\", index=False, encoding=\"utf-8\")"
   ]
  }
 ],
 "metadata": {
  "kaggle": {
   "accelerator": "none",
   "dataSources": [],
   "dockerImageVersionId": 30887,
   "isGpuEnabled": false,
   "isInternetEnabled": true,
   "language": "python",
   "sourceType": "notebook"
  },
  "kernelspec": {
   "display_name": "Python 3",
   "language": "python",
   "name": "python3"
  },
  "language_info": {
   "codemirror_mode": {
    "name": "ipython",
    "version": 3
   },
   "file_extension": ".py",
   "mimetype": "text/x-python",
   "name": "python",
   "nbconvert_exporter": "python",
   "pygments_lexer": "ipython3",
   "version": "3.10.12"
  }
 },
 "nbformat": 4,
 "nbformat_minor": 4
}
